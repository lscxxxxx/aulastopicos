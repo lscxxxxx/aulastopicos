{
 "cells": [
  {
   "cell_type": "code",
   "execution_count": 1,
   "id": "9f2549e8-dc39-496d-b800-a0fa9aefd763",
   "metadata": {},
   "outputs": [],
   "source": [
    "import pandas as pd"
   ]
  },
  {
   "cell_type": "code",
   "execution_count": 15,
   "id": "6cb9be42-0d24-4601-9b7f-5984a686b481",
   "metadata": {},
   "outputs": [],
   "source": [
    "dados = {\n",
    "    'Nome': ['Ana Carolina', 'Kauan', 'Stephane', 'Maurício', 'Lucas', 'Gustavo', 'Davi'],\n",
    "    'Idade': [18, 22, 21, 25, 30, 29, 32],\n",
    "    'Cidade': ['Jaraguá do Sul', 'Jaraguá do Sul', 'Parnaíba', 'Sapiranga', 'Guaramirim', 'Jaraguá do Sul', 'Curitiba']\n",
    "}"
   ]
  },
  {
   "cell_type": "code",
   "execution_count": 19,
   "id": "d7fb0264-92bd-4cb9-bc8b-b962573e0004",
   "metadata": {},
   "outputs": [],
   "source": [
    "df = pd.DataFrame(dados)"
   ]
  },
  {
   "cell_type": "code",
   "execution_count": 21,
   "id": "11b5ed12-68d8-4c46-95bc-3912092f610f",
   "metadata": {},
   "outputs": [
    {
     "data": {
      "text/html": [
       "<div>\n",
       "<style scoped>\n",
       "    .dataframe tbody tr th:only-of-type {\n",
       "        vertical-align: middle;\n",
       "    }\n",
       "\n",
       "    .dataframe tbody tr th {\n",
       "        vertical-align: top;\n",
       "    }\n",
       "\n",
       "    .dataframe thead th {\n",
       "        text-align: right;\n",
       "    }\n",
       "</style>\n",
       "<table border=\"1\" class=\"dataframe\">\n",
       "  <thead>\n",
       "    <tr style=\"text-align: right;\">\n",
       "      <th></th>\n",
       "      <th>Nome</th>\n",
       "      <th>Idade</th>\n",
       "      <th>Cidade</th>\n",
       "    </tr>\n",
       "  </thead>\n",
       "  <tbody>\n",
       "    <tr>\n",
       "      <th>0</th>\n",
       "      <td>Ana Carolina</td>\n",
       "      <td>18</td>\n",
       "      <td>Jaraguá do Sul</td>\n",
       "    </tr>\n",
       "    <tr>\n",
       "      <th>1</th>\n",
       "      <td>Kauan</td>\n",
       "      <td>22</td>\n",
       "      <td>Jaraguá do Sul</td>\n",
       "    </tr>\n",
       "  </tbody>\n",
       "</table>\n",
       "</div>"
      ],
      "text/plain": [
       "           Nome  Idade          Cidade\n",
       "0  Ana Carolina     18  Jaraguá do Sul\n",
       "1         Kauan     22  Jaraguá do Sul"
      ]
     },
     "execution_count": 21,
     "metadata": {},
     "output_type": "execute_result"
    }
   ],
   "source": [
    "df.head(2)"
   ]
  },
  {
   "cell_type": "code",
   "execution_count": 9,
   "id": "15ef3710-aa4f-4b5a-9d1e-77746829605c",
   "metadata": {},
   "outputs": [
    {
     "data": {
      "text/html": [
       "<div>\n",
       "<style scoped>\n",
       "    .dataframe tbody tr th:only-of-type {\n",
       "        vertical-align: middle;\n",
       "    }\n",
       "\n",
       "    .dataframe tbody tr th {\n",
       "        vertical-align: top;\n",
       "    }\n",
       "\n",
       "    .dataframe thead th {\n",
       "        text-align: right;\n",
       "    }\n",
       "</style>\n",
       "<table border=\"1\" class=\"dataframe\">\n",
       "  <thead>\n",
       "    <tr style=\"text-align: right;\">\n",
       "      <th></th>\n",
       "      <th>Nome</th>\n",
       "      <th>Idade</th>\n",
       "      <th>Cidade</th>\n",
       "    </tr>\n",
       "  </thead>\n",
       "  <tbody>\n",
       "    <tr>\n",
       "      <th>5</th>\n",
       "      <td>Gustavo</td>\n",
       "      <td>29</td>\n",
       "      <td>Jaraguá do Sul</td>\n",
       "    </tr>\n",
       "    <tr>\n",
       "      <th>6</th>\n",
       "      <td>Davi</td>\n",
       "      <td>32</td>\n",
       "      <td>Curitiba</td>\n",
       "    </tr>\n",
       "  </tbody>\n",
       "</table>\n",
       "</div>"
      ],
      "text/plain": [
       "      Nome  Idade          Cidade\n",
       "5  Gustavo     29  Jaraguá do Sul\n",
       "6     Davi     32        Curitiba"
      ]
     },
     "execution_count": 9,
     "metadata": {},
     "output_type": "execute_result"
    }
   ],
   "source": [
    "df.tail(2)"
   ]
  },
  {
   "cell_type": "code",
   "execution_count": 23,
   "id": "2fb9ef27-2f45-4edb-a662-aad84f339d38",
   "metadata": {},
   "outputs": [
    {
     "name": "stdout",
     "output_type": "stream",
     "text": [
      "<class 'pandas.core.frame.DataFrame'>\n",
      "RangeIndex: 7 entries, 0 to 6\n",
      "Data columns (total 3 columns):\n",
      " #   Column  Non-Null Count  Dtype \n",
      "---  ------  --------------  ----- \n",
      " 0   Nome    7 non-null      object\n",
      " 1   Idade   7 non-null      int64 \n",
      " 2   Cidade  7 non-null      object\n",
      "dtypes: int64(1), object(2)\n",
      "memory usage: 300.0+ bytes\n"
     ]
    }
   ],
   "source": [
    "df.info()"
   ]
  },
  {
   "cell_type": "code",
   "execution_count": 25,
   "id": "a8283330-4633-4c67-a6da-401d49b101fc",
   "metadata": {},
   "outputs": [
    {
     "data": {
      "text/html": [
       "<div>\n",
       "<style scoped>\n",
       "    .dataframe tbody tr th:only-of-type {\n",
       "        vertical-align: middle;\n",
       "    }\n",
       "\n",
       "    .dataframe tbody tr th {\n",
       "        vertical-align: top;\n",
       "    }\n",
       "\n",
       "    .dataframe thead th {\n",
       "        text-align: right;\n",
       "    }\n",
       "</style>\n",
       "<table border=\"1\" class=\"dataframe\">\n",
       "  <thead>\n",
       "    <tr style=\"text-align: right;\">\n",
       "      <th></th>\n",
       "      <th>Idade</th>\n",
       "    </tr>\n",
       "  </thead>\n",
       "  <tbody>\n",
       "    <tr>\n",
       "      <th>count</th>\n",
       "      <td>7.000000</td>\n",
       "    </tr>\n",
       "    <tr>\n",
       "      <th>mean</th>\n",
       "      <td>25.285714</td>\n",
       "    </tr>\n",
       "    <tr>\n",
       "      <th>std</th>\n",
       "      <td>5.219013</td>\n",
       "    </tr>\n",
       "    <tr>\n",
       "      <th>min</th>\n",
       "      <td>18.000000</td>\n",
       "    </tr>\n",
       "    <tr>\n",
       "      <th>25%</th>\n",
       "      <td>21.500000</td>\n",
       "    </tr>\n",
       "    <tr>\n",
       "      <th>50%</th>\n",
       "      <td>25.000000</td>\n",
       "    </tr>\n",
       "    <tr>\n",
       "      <th>75%</th>\n",
       "      <td>29.500000</td>\n",
       "    </tr>\n",
       "    <tr>\n",
       "      <th>max</th>\n",
       "      <td>32.000000</td>\n",
       "    </tr>\n",
       "  </tbody>\n",
       "</table>\n",
       "</div>"
      ],
      "text/plain": [
       "           Idade\n",
       "count   7.000000\n",
       "mean   25.285714\n",
       "std     5.219013\n",
       "min    18.000000\n",
       "25%    21.500000\n",
       "50%    25.000000\n",
       "75%    29.500000\n",
       "max    32.000000"
      ]
     },
     "execution_count": 25,
     "metadata": {},
     "output_type": "execute_result"
    }
   ],
   "source": [
    "df.describe()"
   ]
  },
  {
   "cell_type": "code",
   "execution_count": 27,
   "id": "8a69ca45-8e3a-4f3c-931b-c9b7a86b7d81",
   "metadata": {},
   "outputs": [
    {
     "data": {
      "text/plain": [
       "(7, 3)"
      ]
     },
     "execution_count": 27,
     "metadata": {},
     "output_type": "execute_result"
    }
   ],
   "source": [
    "df.shape"
   ]
  },
  {
   "cell_type": "code",
   "execution_count": 29,
   "id": "1dc1439b-02f0-45c9-adfa-0ed50fd655fb",
   "metadata": {},
   "outputs": [
    {
     "data": {
      "text/plain": [
       "Index(['Nome', 'Idade', 'Cidade'], dtype='object')"
      ]
     },
     "execution_count": 29,
     "metadata": {},
     "output_type": "execute_result"
    }
   ],
   "source": [
    "df.columns"
   ]
  },
  {
   "cell_type": "code",
   "execution_count": 31,
   "id": "95ddc128-6115-46b6-b0bb-f3047c217ad0",
   "metadata": {},
   "outputs": [
    {
     "data": {
      "text/plain": [
       "Nome      object\n",
       "Idade      int64\n",
       "Cidade    object\n",
       "dtype: object"
      ]
     },
     "execution_count": 31,
     "metadata": {},
     "output_type": "execute_result"
    }
   ],
   "source": [
    "df.dtypes"
   ]
  },
  {
   "cell_type": "code",
   "execution_count": 35,
   "id": "cbfd6fef-fb53-45ed-a6ed-f3cbafd60888",
   "metadata": {},
   "outputs": [
    {
     "data": {
      "text/plain": [
       "0    Ana Carolina\n",
       "1           Kauan\n",
       "2        Stephane\n",
       "3        Maurício\n",
       "4           Lucas\n",
       "5         Gustavo\n",
       "6            Davi\n",
       "Name: Nome, dtype: object"
      ]
     },
     "execution_count": 35,
     "metadata": {},
     "output_type": "execute_result"
    }
   ],
   "source": [
    "df['Nome']"
   ]
  },
  {
   "cell_type": "code",
   "execution_count": 37,
   "id": "381ac5bd-c721-456a-baf4-76fbf52e9133",
   "metadata": {},
   "outputs": [
    {
     "data": {
      "text/html": [
       "<div>\n",
       "<style scoped>\n",
       "    .dataframe tbody tr th:only-of-type {\n",
       "        vertical-align: middle;\n",
       "    }\n",
       "\n",
       "    .dataframe tbody tr th {\n",
       "        vertical-align: top;\n",
       "    }\n",
       "\n",
       "    .dataframe thead th {\n",
       "        text-align: right;\n",
       "    }\n",
       "</style>\n",
       "<table border=\"1\" class=\"dataframe\">\n",
       "  <thead>\n",
       "    <tr style=\"text-align: right;\">\n",
       "      <th></th>\n",
       "      <th>Nome</th>\n",
       "      <th>Idade</th>\n",
       "      <th>Cidade</th>\n",
       "    </tr>\n",
       "  </thead>\n",
       "  <tbody>\n",
       "    <tr>\n",
       "      <th>4</th>\n",
       "      <td>Lucas</td>\n",
       "      <td>30</td>\n",
       "      <td>Guaramirim</td>\n",
       "    </tr>\n",
       "    <tr>\n",
       "      <th>5</th>\n",
       "      <td>Gustavo</td>\n",
       "      <td>29</td>\n",
       "      <td>Jaraguá do Sul</td>\n",
       "    </tr>\n",
       "    <tr>\n",
       "      <th>6</th>\n",
       "      <td>Davi</td>\n",
       "      <td>32</td>\n",
       "      <td>Curitiba</td>\n",
       "    </tr>\n",
       "  </tbody>\n",
       "</table>\n",
       "</div>"
      ],
      "text/plain": [
       "      Nome  Idade          Cidade\n",
       "4    Lucas     30      Guaramirim\n",
       "5  Gustavo     29  Jaraguá do Sul\n",
       "6     Davi     32        Curitiba"
      ]
     },
     "execution_count": 37,
     "metadata": {},
     "output_type": "execute_result"
    }
   ],
   "source": [
    "df[df['Idade'] > 25]"
   ]
  },
  {
   "cell_type": "code",
   "execution_count": 39,
   "id": "e4b13f15-04c3-41e2-be8f-bb83fdb2352e",
   "metadata": {},
   "outputs": [
    {
     "data": {
      "text/plain": [
       "25.285714285714285"
      ]
     },
     "execution_count": 39,
     "metadata": {},
     "output_type": "execute_result"
    }
   ],
   "source": [
    "df['Idade'].mean()"
   ]
  },
  {
   "cell_type": "code",
   "execution_count": 41,
   "id": "c70b6361-9109-47de-86e9-6df0362fc063",
   "metadata": {},
   "outputs": [
    {
     "data": {
      "text/plain": [
       "25.0"
      ]
     },
     "execution_count": 41,
     "metadata": {},
     "output_type": "execute_result"
    }
   ],
   "source": [
    "df['Idade'].median()"
   ]
  },
  {
   "cell_type": "code",
   "execution_count": 43,
   "id": "4f1832aa-5b7e-49ac-a9c8-2813b658f662",
   "metadata": {},
   "outputs": [
    {
     "data": {
      "text/plain": [
       "0    Ana Carolina\n",
       "1           Kauan\n",
       "2        Stephane\n",
       "3        Maurício\n",
       "Name: Nome, dtype: object"
      ]
     },
     "execution_count": 43,
     "metadata": {},
     "output_type": "execute_result"
    }
   ],
   "source": [
    "df.loc[:3, 'Nome']"
   ]
  },
  {
   "cell_type": "code",
   "execution_count": 45,
   "id": "72c73417-d065-4968-93b2-f754be0ae5fa",
   "metadata": {},
   "outputs": [
    {
     "data": {
      "text/html": [
       "<div>\n",
       "<style scoped>\n",
       "    .dataframe tbody tr th:only-of-type {\n",
       "        vertical-align: middle;\n",
       "    }\n",
       "\n",
       "    .dataframe tbody tr th {\n",
       "        vertical-align: top;\n",
       "    }\n",
       "\n",
       "    .dataframe thead th {\n",
       "        text-align: right;\n",
       "    }\n",
       "</style>\n",
       "<table border=\"1\" class=\"dataframe\">\n",
       "  <thead>\n",
       "    <tr style=\"text-align: right;\">\n",
       "      <th></th>\n",
       "      <th>Nome</th>\n",
       "      <th>Idade</th>\n",
       "      <th>Cidade</th>\n",
       "    </tr>\n",
       "  </thead>\n",
       "  <tbody>\n",
       "    <tr>\n",
       "      <th>6</th>\n",
       "      <td>Davi</td>\n",
       "      <td>32</td>\n",
       "      <td>Curitiba</td>\n",
       "    </tr>\n",
       "  </tbody>\n",
       "</table>\n",
       "</div>"
      ],
      "text/plain": [
       "   Nome  Idade    Cidade\n",
       "6  Davi     32  Curitiba"
      ]
     },
     "execution_count": 45,
     "metadata": {},
     "output_type": "execute_result"
    }
   ],
   "source": [
    "df.loc[df['Idade'] > 30]"
   ]
  },
  {
   "cell_type": "code",
   "execution_count": 47,
   "id": "f9c752fc-ff6a-4f2f-a47d-321fc64164ae",
   "metadata": {},
   "outputs": [
    {
     "name": "stdout",
     "output_type": "stream",
     "text": [
      "Kauan\n"
     ]
    }
   ],
   "source": [
    "segundaPessoa = df.iloc[1, 0]\n",
    "print(segundaPessoa)"
   ]
  },
  {
   "cell_type": "code",
   "execution_count": 55,
   "id": "5acc43d2-02fa-4f44-9e79-5b429b46fc93",
   "metadata": {},
   "outputs": [
    {
     "data": {
      "text/plain": [
       "0    Ana Carolina\n",
       "1           Kauan\n",
       "Name: Nome, dtype: object"
      ]
     },
     "execution_count": 55,
     "metadata": {},
     "output_type": "execute_result"
    }
   ],
   "source": [
    "# Selecione a coluna 'Nome' e os dois primeiros registros\n",
    "df.loc[:1, 'Nome']"
   ]
  },
  {
   "cell_type": "code",
   "execution_count": 57,
   "id": "8d1ba5ee-2bb2-4f13-9c09-f7b281462eec",
   "metadata": {},
   "outputs": [
    {
     "data": {
      "text/html": [
       "<div>\n",
       "<style scoped>\n",
       "    .dataframe tbody tr th:only-of-type {\n",
       "        vertical-align: middle;\n",
       "    }\n",
       "\n",
       "    .dataframe tbody tr th {\n",
       "        vertical-align: top;\n",
       "    }\n",
       "\n",
       "    .dataframe thead th {\n",
       "        text-align: right;\n",
       "    }\n",
       "</style>\n",
       "<table border=\"1\" class=\"dataframe\">\n",
       "  <thead>\n",
       "    <tr style=\"text-align: right;\">\n",
       "      <th></th>\n",
       "      <th>Nome</th>\n",
       "      <th>Cidade</th>\n",
       "    </tr>\n",
       "  </thead>\n",
       "  <tbody>\n",
       "    <tr>\n",
       "      <th>4</th>\n",
       "      <td>Lucas</td>\n",
       "      <td>Guaramirim</td>\n",
       "    </tr>\n",
       "    <tr>\n",
       "      <th>5</th>\n",
       "      <td>Gustavo</td>\n",
       "      <td>Jaraguá do Sul</td>\n",
       "    </tr>\n",
       "    <tr>\n",
       "      <th>6</th>\n",
       "      <td>Davi</td>\n",
       "      <td>Curitiba</td>\n",
       "    </tr>\n",
       "  </tbody>\n",
       "</table>\n",
       "</div>"
      ],
      "text/plain": [
       "      Nome          Cidade\n",
       "4    Lucas      Guaramirim\n",
       "5  Gustavo  Jaraguá do Sul\n",
       "6     Davi        Curitiba"
      ]
     },
     "execution_count": 57,
     "metadata": {},
     "output_type": "execute_result"
    }
   ],
   "source": [
    "# Filtre as pessoas com mais de 25 anos e mostre apenas as colunas 'Nome' e 'Cidade'\n",
    "df.loc[df['Idade'] > 25, ['Nome', 'Cidade']]"
   ]
  },
  {
   "cell_type": "code",
   "execution_count": 59,
   "id": "1b67ed1e-e10d-4c55-973d-4d2f387ece80",
   "metadata": {},
   "outputs": [],
   "source": [
    "papelaria = {\n",
    "    'Produto': ['Teclado', 'Mouse', 'Caneta', 'Caderno', 'Fone'],\n",
    "    'Categoria': ['Eletrônico', 'Eletrônico', 'Escritório', 'Escritório', 'Eletrônico'],\n",
    "    'Vendas': [120, 85, 300, 150, 200],\n",
    "    'Preço': [80, 40, 2, 15, 120]\n",
    "}"
   ]
  },
  {
   "cell_type": "code",
   "execution_count": 61,
   "id": "3579a58e-d9d1-4a25-8e1f-5285cda4d225",
   "metadata": {},
   "outputs": [
    {
     "name": "stdout",
     "output_type": "stream",
     "text": [
      "{'Produto': ['Teclado', 'Mouse', 'Caneta', 'Caderno', 'Fone'], 'Categoria': ['Eletrônico', 'Eletrônico', 'Escritório', 'Escritório', 'Eletrônico'], 'Vendas': [120, 85, 300, 150, 200], 'Preço': [80, 40, 2, 15, 120]}\n"
     ]
    }
   ],
   "source": [
    "print(papelaria)"
   ]
  },
  {
   "cell_type": "code",
   "execution_count": 63,
   "id": "afac0020-1ff9-4a12-9ff1-06652a61db27",
   "metadata": {},
   "outputs": [],
   "source": [
    "df = pd.DataFrame(papelaria)"
   ]
  },
  {
   "cell_type": "code",
   "execution_count": 69,
   "id": "ee82f83c-6117-499a-93ef-bbea8ad11083",
   "metadata": {},
   "outputs": [
    {
     "name": "stdout",
     "output_type": "stream",
     "text": [
      "   Produto   Categoria  Vendas  Preço  Faturamento\n",
      "0  Teclado  Eletrônico     120     80         9600\n",
      "1    Mouse  Eletrônico      85     40         3400\n",
      "2   Caneta  Escritório     300      2          600\n",
      "3  Caderno  Escritório     150     15         2250\n",
      "4     Fone  Eletrônico     200    120        24000\n"
     ]
    }
   ],
   "source": [
    "print(df)"
   ]
  },
  {
   "cell_type": "code",
   "execution_count": 67,
   "id": "913b1818-86df-4d69-9aec-86ca99db34fb",
   "metadata": {},
   "outputs": [],
   "source": [
    "df['Faturamento'] = df['Vendas'] * df['Preço']"
   ]
  },
  {
   "cell_type": "code",
   "execution_count": 71,
   "id": "2fa8cf63-bfa8-42e0-8fd8-bb128d7c0742",
   "metadata": {},
   "outputs": [
    {
     "data": {
      "text/html": [
       "<div>\n",
       "<style scoped>\n",
       "    .dataframe tbody tr th:only-of-type {\n",
       "        vertical-align: middle;\n",
       "    }\n",
       "\n",
       "    .dataframe tbody tr th {\n",
       "        vertical-align: top;\n",
       "    }\n",
       "\n",
       "    .dataframe thead th {\n",
       "        text-align: right;\n",
       "    }\n",
       "</style>\n",
       "<table border=\"1\" class=\"dataframe\">\n",
       "  <thead>\n",
       "    <tr style=\"text-align: right;\">\n",
       "      <th></th>\n",
       "      <th>Produto</th>\n",
       "      <th>Categoria</th>\n",
       "      <th>Vendas</th>\n",
       "      <th>Preço</th>\n",
       "      <th>Faturamento</th>\n",
       "    </tr>\n",
       "  </thead>\n",
       "  <tbody>\n",
       "    <tr>\n",
       "      <th>0</th>\n",
       "      <td>Teclado</td>\n",
       "      <td>Eletrônico</td>\n",
       "      <td>120</td>\n",
       "      <td>80</td>\n",
       "      <td>9600</td>\n",
       "    </tr>\n",
       "    <tr>\n",
       "      <th>4</th>\n",
       "      <td>Fone</td>\n",
       "      <td>Eletrônico</td>\n",
       "      <td>200</td>\n",
       "      <td>120</td>\n",
       "      <td>24000</td>\n",
       "    </tr>\n",
       "  </tbody>\n",
       "</table>\n",
       "</div>"
      ],
      "text/plain": [
       "   Produto   Categoria  Vendas  Preço  Faturamento\n",
       "0  Teclado  Eletrônico     120     80         9600\n",
       "4     Fone  Eletrônico     200    120        24000"
      ]
     },
     "execution_count": 71,
     "metadata": {},
     "output_type": "execute_result"
    }
   ],
   "source": [
    "df.loc[df['Faturamento'] > 5000]"
   ]
  },
  {
   "cell_type": "code",
   "execution_count": 85,
   "id": "d22b4f11-5d6e-4316-8e42-14ced0233b0c",
   "metadata": {},
   "outputs": [
    {
     "name": "stdout",
     "output_type": "stream",
     "text": [
      "Categoria\n",
      "Eletrônico    37000\n",
      "Escritório     2850\n",
      "Name: Faturamento, dtype: int64\n"
     ]
    }
   ],
   "source": [
    "groupByCategory = df.groupby('Categoria')['Faturamento'].sum()\n",
    "print(groupByCategory)\n",
    "\n",
    "groupByCategory_df = groupByCategory.reset_index()\n",
    "groupByCategory_df.to_csv('groupByCategory.csv', index = False)"
   ]
  },
  {
   "cell_type": "code",
   "execution_count": 89,
   "id": "9fcb66a8-6ff2-4687-b05d-45af10acd420",
   "metadata": {},
   "outputs": [
    {
     "data": {
      "image/png": "[encoded data removed]",
      "text/plain": [
       "<Figure size 640x480 with 1 Axes>"
      ]
     },
     "metadata": {},
     "output_type": "display_data"
    }
   ],
   "source": [
    "import matplotlib.pyplot as plt\n",
    "\n",
    "plt.bar(groupByCategory.index, groupByCategory.values)\n",
    "plt.xlabel(\"Categoria de produtos\")\n",
    "plt.ylabel(\"Valor em R$\")\n",
    "plt.title(\"Faturamento por categoria\")\n",
    "plt.show()"
   ]
  },
  {
   "cell_type": "code",
   "execution_count": null,
   "id": "73adf52f-8aca-4ca3-b35f-029b6d93c742",
   "metadata": {},
   "outputs": [],
   "source": []
  }
 ],
 "metadata": {
  "kernelspec": {
   "display_name": "Python 3 (ipykernel)",
   "language": "python",
   "name": "python3"
  },
  "language_info": {
   "codemirror_mode": {
    "name": "ipython",
    "version": 3
   },
   "file_extension": ".py",
   "mimetype": "text/x-python",
   "name": "python",
   "nbconvert_exporter": "python",
   "pygments_lexer": "ipython3",
   "version": "3.12.4"
  }
 },
 "nbformat": 4,
 "nbformat_minor": 5
}
